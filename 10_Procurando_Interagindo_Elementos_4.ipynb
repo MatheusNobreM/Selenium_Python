{
 "cells": [
  {
   "cell_type": "code",
   "execution_count": 24,
   "metadata": {},
   "outputs": [],
   "source": [
    "from selenium.webdriver import Firefox\n",
    "from selenium import webdriver\n",
    "from selenium.webdriver.common.by import By\n",
    "from time import sleep\n",
    "from pprint import pprint\n",
    "from urllib.parse import urlparse\n",
    "from json import loads"
   ]
  },
  {
   "cell_type": "code",
   "execution_count": 25,
   "metadata": {},
   "outputs": [],
   "source": [
    "browser = Firefox()\n",
    "browser.get('http://selenium.dunossauro.live/aula_05.html')"
   ]
  },
  {
   "cell_type": "code",
   "execution_count": 26,
   "metadata": {},
   "outputs": [],
   "source": [
    "# nome, email, senha, telefone, btn\n",
    "def preenche_form(browser, nome, email, senha, telefone):\n",
    "    browser.find_element(By.NAME, 'nome').send_keys(nome)\n",
    "    browser.find_element(By.NAME, 'email').send_keys(email)\n",
    "    browser.find_element(By.NAME, 'senha').send_keys(senha)\n",
    "    browser.find_element(By.NAME, 'telefone').send_keys(telefone)\n",
    "    browser.find_element(By.NAME, 'btn').click()"
   ]
  },
  {
   "cell_type": "code",
   "execution_count": 27,
   "metadata": {},
   "outputs": [
    {
     "name": "stdout",
     "output_type": "stream",
     "text": [
      "{'nome': 'Eduardo', 'email': 'dudu@du.edu', 'senha': 'q1w2e3r4', 'telefone': '987654321'}\n",
      "{\"nome\": \"Eduardo\", \"email\": \"dudu@du.edu\", \"senha\": \"q1w2e3r4\", \"telefone\": \"987654321\"}\n",
      "{'nome': 'Eduardo', 'email': 'dudu@du.edu', 'senha': 'q1w2e3r4', 'telefone': '987654321'}\n"
     ]
    }
   ],
   "source": [
    "sleep(2)\n",
    "\n",
    "estrutura = {\n",
    "    'nome': 'Eduardo',\n",
    "    'email': 'dudu@du.edu',\n",
    "    'senha': 'q1w2e3r4',\n",
    "    'telefone': '987654321'\n",
    "}\n",
    "\n",
    "preenche_form(browser, **estrutura) #Passando o dicionario **\n",
    "\n",
    "url_parseada = urlparse(browser.current_url) #Pegando a url\n",
    "\n",
    "sleep(3)\n",
    "\n",
    "texto_resultado = browser.find_element(By.ID,'result').text\n",
    "print(texto_resultado)\n",
    "\n",
    "resultado_arrumado = texto_resultado.replace('\\'', \"\\\"\") # trocar ' por \"\n",
    "print(resultado_arrumado)\n",
    "\n",
    "dic_result = loads(resultado_arrumado)\n",
    "print(dic_result)\n",
    "\n",
    "assert dic_result == estrutura #Testando se está tudo certo"
   ]
  },
  {
   "cell_type": "code",
   "execution_count": 28,
   "metadata": {},
   "outputs": [],
   "source": [
    "browser.quit()"
   ]
  }
 ],
 "metadata": {
  "kernelspec": {
   "display_name": "base",
   "language": "python",
   "name": "python3"
  },
  "language_info": {
   "codemirror_mode": {
    "name": "ipython",
    "version": 3
   },
   "file_extension": ".py",
   "mimetype": "text/x-python",
   "name": "python",
   "nbconvert_exporter": "python",
   "pygments_lexer": "ipython3",
   "version": "3.9.13"
  }
 },
 "nbformat": 4,
 "nbformat_minor": 2
}
