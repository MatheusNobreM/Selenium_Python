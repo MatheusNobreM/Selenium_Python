{
 "cells": [
  {
   "cell_type": "code",
   "execution_count": 5,
   "metadata": {},
   "outputs": [],
   "source": [
    "from selenium.webdriver import Firefox\n",
    "from selenium import webdriver\n",
    "from selenium.webdriver.common.by import By\n",
    "from time import sleep\n",
    "from pprint import pprint\n",
    "from urllib.parse import urlparse\n"
   ]
  },
  {
   "cell_type": "code",
   "execution_count": 10,
   "metadata": {},
   "outputs": [],
   "source": [
    "b = Firefox()\n",
    "url ='http://selenium.dunossauro.live/aula_06_a.html'\n",
    "b.get(url)"
   ]
  },
  {
   "cell_type": "code",
   "execution_count": 7,
   "metadata": {},
   "outputs": [],
   "source": [
    "# b.find_element(By.CSS_SELECTOR, 'input').send_keys('eduardo')"
   ]
  },
  {
   "cell_type": "markdown",
   "metadata": {},
   "source": [
    "= Deve ser exatamente igual\n",
    "\n",
    "*= Deve ocorrer em\n",
    "\n",
    "|= Deve ser exatamente ou iniciar\n",
    "\n",
    "^= Iniciado em\n",
    "\n",
    "$= Terminado em\n",
    "\n",
    "~= Um deve ser exatamente igual"
   ]
  },
  {
   "cell_type": "code",
   "execution_count": 12,
   "metadata": {},
   "outputs": [],
   "source": [
    "# usando a atributo type [attr=valor]\n",
    "# nome = b.find_element(By.CSS_SELECTOR,'[type=\"text\"]')\n",
    "# senha = b.find_element(By.CSS_SELECTOR,'[type=\"password\"]')\n",
    "# btn = b.find_element(By.CSS_SELECTOR,'[type=\"submit\"]')\n",
    "\n",
    "# usando a atributo name [attr=valor]\n",
    "nome = b.find_element(By.CSS_SELECTOR,'[name=\"nome\"]')\n",
    "senha = b.find_element(By.CSS_SELECTOR, '[name=\"senha\"]')\n",
    "btn = b.find_element(By.CSS_SELECTOR,'[name=\"l0c0\"]')\n",
    "\n",
    "# usando a atributo * [att*=valor]\n",
    "# nome = b.find_element(By.CSS_SELECTOR,'[name*=\"ome\"]')\n",
    "# senha = b.find_element(By.CSS_SELECTOR,'[name*=\"nha\"]')\n",
    "# btn = b.find_element(By.CSS_SELECTOR,'[name*=\"l0\"]')\n",
    "\n",
    "# usando a atributo | [att|=valor]\n",
    "# nome = b.find_element(By.CSS_SELECTOR,'[name|=\"nome\"]')\n",
    "# senha = b.find_element(By.CSS_SELECTOR,'[name|=\"senha\"]')\n",
    "# btn = b.find_element(By.CSS_SELECTOR,'[name|=\"l0c0\"]')\n",
    "\n",
    "# usando a atributo ^ [att^=valor]\n",
    "# nome = b.find_element(By.CSS_SELECTOR,'[name^=\"n\"]')\n",
    "# senha = b.find_element(By.CSS_SELECTOR,'[name^=\"s\"]')\n",
    "# btn = b.find_element(By.CSS_SELECTOR,'[name^=\"l\"]')\n",
    "\n",
    "\n",
    "nome.send_keys('Matheus')\n",
    "senha.send_keys('aluno12345')\n",
    "btn.click()\n"
   ]
  },
  {
   "cell_type": "code",
   "execution_count": null,
   "metadata": {},
   "outputs": [],
   "source": []
  }
 ],
 "metadata": {
  "kernelspec": {
   "display_name": "base",
   "language": "python",
   "name": "python3"
  },
  "language_info": {
   "codemirror_mode": {
    "name": "ipython",
    "version": 3
   },
   "file_extension": ".py",
   "mimetype": "text/x-python",
   "name": "python",
   "nbconvert_exporter": "python",
   "pygments_lexer": "ipython3",
   "version": "3.9.13"
  }
 },
 "nbformat": 4,
 "nbformat_minor": 2
}
