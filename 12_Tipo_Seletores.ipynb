{
 "cells": [
  {
   "cell_type": "code",
   "execution_count": 1,
   "metadata": {},
   "outputs": [],
   "source": [
    "from selenium.webdriver import Firefox\n",
    "from selenium import webdriver\n",
    "from selenium.webdriver.common.by import By\n",
    "from time import sleep\n",
    "from pprint import pprint\n",
    "from urllib.parse import urlparse\n"
   ]
  },
  {
   "cell_type": "code",
   "execution_count": 2,
   "metadata": {},
   "outputs": [],
   "source": [
    "b = Firefox()\n",
    "url ='http://selenium.dunossauro.live/aula_06_a.html'\n",
    "b.get(url)"
   ]
  },
  {
   "cell_type": "markdown",
   "metadata": {},
   "source": [
    "Seletores:\n",
    "\n",
    "div[form-group], *[type $= \"t\"] -> Encontrar qualquer tag (div) que contenha o atributo (form-group)\n",
    "                                    juntamente a quaisquer tags (*) que tenham o atributo (type) \n",
    "                                    com o valor q termine em (t)\n",
    "\n",
    "- Combinadores \n",
    "\n",
    "div.form-group + #dentro-nome -> apartir de (div.form-group) pegar o ultimo com (#dentro-nome)\n",
    "\n",
    "div.form-group ~ #dentro-nome -> apartir de (div.form-group) pegar todos os irmão (#dentro-nome)\n",
    "\n",
    "div.form-group > #dentro-nome -> apartir de (div.form-group) pegar todos os filhos (#dentro-nome)\n",
    "\n",
    "div.form-group  #dentro-nome -> apartir de (div.form-group) do pai pegar todos os filhos (#dentro-nome)"
   ]
  },
  {
   "cell_type": "code",
   "execution_count": 4,
   "metadata": {},
   "outputs": [
    {
     "data": {
      "text/plain": [
       "[<selenium.webdriver.remote.webelement.WebElement (session=\"adbee2d9-e5b7-4c39-a714-c16b0bfca45c\", element=\"10caf3ae-42b6-4a45-84d7-70054a33a780\")>,\n",
       " <selenium.webdriver.remote.webelement.WebElement (session=\"adbee2d9-e5b7-4c39-a714-c16b0bfca45c\", element=\"e041d462-6d26-4b22-bd11-0dceb75bb161\")>,\n",
       " <selenium.webdriver.remote.webelement.WebElement (session=\"adbee2d9-e5b7-4c39-a714-c16b0bfca45c\", element=\"0205d3a4-8621-4210-9203-2a3bef20fea2\")>]"
      ]
     },
     "execution_count": 4,
     "metadata": {},
     "output_type": "execute_result"
    }
   ],
   "source": [
    "b.find_elements(By.CSS_SELECTOR, 'div.form-group')"
   ]
  },
  {
   "cell_type": "code",
   "execution_count": 5,
   "metadata": {},
   "outputs": [
    {
     "data": {
      "text/plain": [
       "''"
      ]
     },
     "execution_count": 5,
     "metadata": {},
     "output_type": "execute_result"
    }
   ],
   "source": [
    "b.find_elements(By.CSS_SELECTOR,\n",
    "    'div.form-group + br' # br irmão de div class form-group\n",
    ")[1].get_attribute('id')"
   ]
  },
  {
   "cell_type": "code",
   "execution_count": 7,
   "metadata": {},
   "outputs": [],
   "source": [
    "# da tag div com a classe form-group pegue o filho com id dentro-nome\n",
    "#b.find_element(By.CSS_SELECTOR, 'div.form-group > #dentro-nome')"
   ]
  },
  {
   "cell_type": "code",
   "execution_count": 8,
   "metadata": {},
   "outputs": [
    {
     "data": {
      "text/plain": [
       "[<selenium.webdriver.remote.webelement.WebElement (session=\"adbee2d9-e5b7-4c39-a714-c16b0bfca45c\", element=\"b5f69979-e938-4429-a8ea-73c6d769c363\")>,\n",
       " <selenium.webdriver.remote.webelement.WebElement (session=\"adbee2d9-e5b7-4c39-a714-c16b0bfca45c\", element=\"9ba822d9-de27-4a3f-9f3c-29b7a13aef35\")>]"
      ]
     },
     "execution_count": 8,
     "metadata": {},
     "output_type": "execute_result"
    }
   ],
   "source": [
    "# do form, pegue todas as tag label existentes\n",
    "# ignorando a hierarquia (decendente)\n",
    "b.find_elements(By.CSS_SELECTOR, 'form label')"
   ]
  },
  {
   "cell_type": "code",
   "execution_count": null,
   "metadata": {},
   "outputs": [],
   "source": [
    "# flukeout.github.io -> jogo min 1:16:00"
   ]
  },
  {
   "cell_type": "code",
   "execution_count": null,
   "metadata": {},
   "outputs": [],
   "source": [
    "#url ='http://selenium.dunossauro.live/aula_06.html'"
   ]
  }
 ],
 "metadata": {
  "kernelspec": {
   "display_name": "base",
   "language": "python",
   "name": "python3"
  },
  "language_info": {
   "codemirror_mode": {
    "name": "ipython",
    "version": 3
   },
   "file_extension": ".py",
   "mimetype": "text/x-python",
   "name": "python",
   "nbconvert_exporter": "python",
   "pygments_lexer": "ipython3",
   "version": "3.9.13"
  }
 },
 "nbformat": 4,
 "nbformat_minor": 2
}
