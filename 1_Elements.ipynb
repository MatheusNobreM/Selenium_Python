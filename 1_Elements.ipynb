{
 "cells": [
  {
   "cell_type": "code",
   "execution_count": 44,
   "metadata": {},
   "outputs": [],
   "source": [
    "from selenium.webdriver import Firefox\n",
    "from selenium import webdriver\n",
    "from selenium.webdriver.common.by import By\n",
    "from time import sleep"
   ]
  },
  {
   "cell_type": "code",
   "execution_count": 50,
   "metadata": {},
   "outputs": [
    {
     "name": "stdout",
     "output_type": "stream",
     "text": [
      "Valor de p 0 valor do click: 0\n",
      "Os valores são iguais True\n",
      "Valor de p 1 valor do click: 1\n",
      "Os valores são iguais True\n",
      "Valor de p 2 valor do click: 2\n",
      "Os valores são iguais True\n",
      "Valor de p 3 valor do click: 3\n",
      "Os valores são iguais True\n",
      "Valor de p 4 valor do click: 4\n",
      "Os valores são iguais True\n",
      "Valor de p 5 valor do click: 5\n",
      "Os valores são iguais True\n",
      "Valor de p 6 valor do click: 6\n",
      "Os valores são iguais True\n",
      "Valor de p 7 valor do click: 7\n",
      "Os valores são iguais True\n",
      "Valor de p 8 valor do click: 8\n",
      "Os valores são iguais True\n",
      "Valor de p 9 valor do click: 9\n",
      "Os valores são iguais True\n"
     ]
    }
   ],
   "source": [
    "url = 'https://curso-python-selenium.netlify.app/aula_03.html'\n",
    "browser = Firefox()\n",
    "browser.get(url)\n",
    "sleep(1)\n",
    "a = browser.find_element(By.TAG_NAME,\"a\")\n",
    "p = browser.find_elements(By.TAG_NAME,\"p\")\n",
    "\n",
    "for click in range(10):\n",
    "    ps = browser.find_elements(By.TAG_NAME, \"p\")\n",
    "    a.click()\n",
    "    print(f'Valor de p {ps[-1].text} valor do click: {click}')\n",
    "    print(f'Os valores são iguais {ps[-1].text == str(click)}')\n",
    "\n",
    "#print(f'texto de a: {a.text}')\n",
    "#rint(f'texto de p: {ps[-1].text}')"
   ]
  },
  {
   "cell_type": "code",
   "execution_count": 11,
   "metadata": {},
   "outputs": [],
   "source": [
    "browser.quit()"
   ]
  },
  {
   "cell_type": "code",
   "execution_count": null,
   "metadata": {},
   "outputs": [],
   "source": []
  }
 ],
 "metadata": {
  "kernelspec": {
   "display_name": "base",
   "language": "python",
   "name": "python3"
  },
  "language_info": {
   "codemirror_mode": {
    "name": "ipython",
    "version": 3
   },
   "file_extension": ".py",
   "mimetype": "text/x-python",
   "name": "python",
   "nbconvert_exporter": "python",
   "pygments_lexer": "ipython3",
   "version": "3.9.13"
  }
 },
 "nbformat": 4,
 "nbformat_minor": 2
}
