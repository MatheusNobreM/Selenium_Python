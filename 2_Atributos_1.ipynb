{
 "cells": [
  {
   "cell_type": "code",
   "execution_count": 5,
   "metadata": {},
   "outputs": [],
   "source": [
    "from selenium.webdriver import Firefox\n",
    "from selenium import webdriver\n",
    "from selenium.webdriver.common.by import By\n",
    "from time import sleep"
   ]
  },
  {
   "cell_type": "code",
   "execution_count": 6,
   "metadata": {},
   "outputs": [],
   "source": [
    "browser = Firefox()\n",
    "browser.get('http://selenium.dunossauro.live/aula_04_a.html')\n",
    "lista_n_ordenada = browser.find_element(By.TAG_NAME, \"ul\")\n",
    "lis = lista_n_ordenada.find_elements(By.TAG_NAME, \"li\")\n",
    "lis[0].find_element(By.TAG_NAME, \"a\").text\n"
   ]
  },
  {
   "cell_type": "markdown",
   "metadata": {},
   "source": [
    "1. buscamos `ul`\n",
    "2. buscamos todos `li`\n",
    "3. No primeiro `li`, buscamos `a` e pegamos o seu texto\n",
    "\n",
    "ul\n",
    "    li\n",
    "        a\n",
    "            texto\n",
    "    li\n",
    "        a\n",
    "            texto\n"
   ]
  }
 ],
 "metadata": {
  "kernelspec": {
   "display_name": "base",
   "language": "python",
   "name": "python3"
  },
  "language_info": {
   "codemirror_mode": {
    "name": "ipython",
    "version": 3
   },
   "file_extension": ".py",
   "mimetype": "text/x-python",
   "name": "python",
   "nbconvert_exporter": "python",
   "pygments_lexer": "ipython3",
   "version": "3.9.13"
  }
 },
 "nbformat": 4,
 "nbformat_minor": 2
}
