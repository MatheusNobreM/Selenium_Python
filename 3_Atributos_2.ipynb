{
 "cells": [
  {
   "cell_type": "code",
   "execution_count": 16,
   "metadata": {},
   "outputs": [],
   "source": [
    "from selenium.webdriver import Firefox\n",
    "from selenium import webdriver\n",
    "from selenium.webdriver.common.by import By\n",
    "from time import sleep"
   ]
  },
  {
   "cell_type": "code",
   "execution_count": 17,
   "metadata": {},
   "outputs": [],
   "source": [
    "def find_by_text(browser, tag, text):\n",
    "    \"\"\"Encontrar o elemento com o texto 'text'.\n",
    "\n",
    "    Argumentos:\n",
    "        - browser = Instancia do browser [firefox, chrome, ...]\n",
    "        - texto = conteúdo que deve estar na tag\n",
    "        - tag = tag onde o texto será procurado\n",
    "    \"\"\"\n",
    "    elementos = browser.find_elements(By.TAG_NAME, tag)  # lista\n",
    "\n",
    "    for elemento in elementos:\n",
    "        if elemento.text == text:\n",
    "            return elemento"
   ]
  },
  {
   "cell_type": "code",
   "execution_count": 18,
   "metadata": {},
   "outputs": [],
   "source": [
    "def find_by_href(browser, link):\n",
    "    \"\"\"Encontrar o elemento 'a' com o link 'link'.\n",
    "\n",
    "    Argumentos:\n",
    "        - browser = Instancia do browser [firefox, chrome, ...]\n",
    "        - link = link que será procurado em todos as tags 'a'\n",
    "    \"\"\"\n",
    "    elementos = browser.find_elements(By.TAG_NAME, \"a\")\n",
    "\n",
    "    for elemento in elementos:\n",
    "        if link in elemento.get_attribute('href'):\n",
    "            return elemento\n"
   ]
  },
  {
   "cell_type": "code",
   "execution_count": 19,
   "metadata": {},
   "outputs": [],
   "source": [
    "browser = Firefox()\n",
    "browser.get('http://selenium.dunossauro.live/aula_04_a.html')"
   ]
  },
  {
   "cell_type": "code",
   "execution_count": 20,
   "metadata": {},
   "outputs": [
    {
     "name": "stdout",
     "output_type": "stream",
     "text": [
      "<selenium.webdriver.remote.webelement.WebElement (session=\"ec93ec1a-1732-4a52-b6ae-79837b316d9d\", element=\"f75f5954-32b0-4fdd-86c7-410aca970149\")>\n"
     ]
    }
   ],
   "source": [
    "elemento_ddg = find_by_text(browser, 'a', 'DuckDuckGo') # Utilizando a primeira função\n",
    "print(elemento_ddg)"
   ]
  },
  {
   "cell_type": "code",
   "execution_count": 22,
   "metadata": {},
   "outputs": [
    {
     "name": "stdout",
     "output_type": "stream",
     "text": [
      "<selenium.webdriver.remote.webelement.WebElement (session=\"ec93ec1a-1732-4a52-b6ae-79837b316d9d\", element=\"f75f5954-32b0-4fdd-86c7-410aca970149\")>\n"
     ]
    }
   ],
   "source": [
    "elemento_ddg = find_by_href(browser, 'ddg')\n",
    "print(elemento_ddg)"
   ]
  },
  {
   "cell_type": "code",
   "execution_count": null,
   "metadata": {},
   "outputs": [],
   "source": []
  }
 ],
 "metadata": {
  "kernelspec": {
   "display_name": "base",
   "language": "python",
   "name": "python3"
  },
  "language_info": {
   "codemirror_mode": {
    "name": "ipython",
    "version": 3
   },
   "file_extension": ".py",
   "mimetype": "text/x-python",
   "name": "python",
   "nbconvert_exporter": "python",
   "pygments_lexer": "ipython3",
   "version": "3.9.13"
  }
 },
 "nbformat": 4,
 "nbformat_minor": 2
}
