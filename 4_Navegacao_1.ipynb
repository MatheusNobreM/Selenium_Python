{
 "cells": [
  {
   "cell_type": "code",
   "execution_count": 1,
   "metadata": {},
   "outputs": [],
   "source": [
    "from selenium.webdriver import Firefox\n",
    "from selenium import webdriver\n",
    "from selenium.webdriver.common.by import By\n",
    "from time import sleep"
   ]
  },
  {
   "cell_type": "code",
   "execution_count": 2,
   "metadata": {},
   "outputs": [],
   "source": [
    "def find_by_text(browser, tag, text):\n",
    "    \"\"\"Encontrar o elemento com o texto `text`.\n",
    "\n",
    "    Argumentos:\n",
    "        - browser = Instancia do browser [firefox, chrome, ...]\n",
    "        - texto = conteúdo que deve estar na tag\n",
    "        - tag = tag onde o texto será procurado\n",
    "    \"\"\"\n",
    "    elementos = browser.find_elements(By.TAG_NAME, tag)  # lista\n",
    "\n",
    "    for elemento in elementos:\n",
    "        if elemento.text == text:\n",
    "            return elemento"
   ]
  },
  {
   "cell_type": "code",
   "execution_count": 3,
   "metadata": {},
   "outputs": [],
   "source": [
    "browser = Firefox()\n",
    "\n",
    "browser.get('http://selenium.dunossauro.live/aula_04_b.html')\n",
    "\n",
    "\n",
    "nomes_das_caixas = ['um', 'dois', 'tres', 'quatro']\n",
    "\n",
    "for nome in nomes_das_caixas:\n",
    "    find_by_text(browser, 'div', nome).click()\n",
    "\n",
    "for nome in nomes_das_caixas:\n",
    "    sleep(0.3)\n",
    "    browser.back()\n",
    "\n",
    "for nome in nomes_das_caixas:\n",
    "    sleep(0.3)\n",
    "    browser.forward()"
   ]
  },
  {
   "cell_type": "code",
   "execution_count": null,
   "metadata": {},
   "outputs": [],
   "source": []
  }
 ],
 "metadata": {
  "kernelspec": {
   "display_name": "base",
   "language": "python",
   "name": "python3"
  },
  "language_info": {
   "codemirror_mode": {
    "name": "ipython",
    "version": 3
   },
   "file_extension": ".py",
   "mimetype": "text/x-python",
   "name": "python",
   "nbconvert_exporter": "python",
   "pygments_lexer": "ipython3",
   "version": "3.9.13"
  }
 },
 "nbformat": 4,
 "nbformat_minor": 2
}
