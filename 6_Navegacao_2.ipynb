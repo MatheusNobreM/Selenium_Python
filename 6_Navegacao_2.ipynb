{
 "cells": [
  {
   "cell_type": "code",
   "execution_count": 11,
   "metadata": {},
   "outputs": [],
   "source": [
    "from selenium.webdriver import Firefox\n",
    "from selenium import webdriver\n",
    "from selenium.webdriver.common.by import By\n",
    "from time import sleep\n",
    "from pprint import pprint"
   ]
  },
  {
   "cell_type": "markdown",
   "metadata": {},
   "source": [
    "1. Pegar todos os links de aulas\n",
    "    {'nome da aula': 'link da aula'}\n",
    "2. Navegar até o exercício 3\n",
    "    achar a url do exercício 3 e ir até lá"
   ]
  },
  {
   "cell_type": "code",
   "execution_count": 12,
   "metadata": {},
   "outputs": [],
   "source": [
    "browser = Firefox()\n",
    "\n",
    "browser.get('http://selenium.dunossauro.live/aula_04.html')"
   ]
  },
  {
   "cell_type": "code",
   "execution_count": 13,
   "metadata": {},
   "outputs": [
    {
     "data": {
      "text/plain": [
       "\"\\nbrowser.get(resultado_1['Aula 3'])\\nbrowser.get(resultado_1['Aula 4'])\\n\""
      ]
     },
     "execution_count": 13,
     "metadata": {},
     "output_type": "execute_result"
    }
   ],
   "source": [
    "def get_links(browser, elemento):  # dicionario\n",
    "    \"\"\"\n",
    "    Pega todos os links dentro de um elemento\n",
    "\n",
    "    - browser = a instância do navegador\n",
    "    - element = webelement [aside, main, body, ul, ol]\n",
    "    \"\"\"\n",
    "    resultado = {}\n",
    "    element = browser.find_element(By.TAG_NAME, elemento)\n",
    "    ancoras = element.find_elements(By.TAG_NAME, 'a')\n",
    "    for acora in ancoras:\n",
    "        resultado[acora.text] = acora.get_attribute('href')\n",
    "    return resultado\n",
    "\"\"\" \n",
    "    [ se for preciso no futuro]\n",
    "browser.get(resultado['Aula 3']) \n",
    "browser.get(resultado['Aula 4'])\n",
    "\"\"\""
   ]
  },
  {
   "cell_type": "code",
   "execution_count": 14,
   "metadata": {},
   "outputs": [
    {
     "name": "stdout",
     "output_type": "stream",
     "text": [
      "{'Aula 3': 'https://selenium.dunossauro.live/aula_03.html',\n",
      " 'Aula 4': 'https://selenium.dunossauro.live/aula_04.html',\n",
      " 'Aula 5': 'https://selenium.dunossauro.live/aula_05.html',\n",
      " 'Aula 6': 'https://selenium.dunossauro.live/aula_06.html',\n",
      " 'Aula 7': 'https://selenium.dunossauro.live/aula_07.html',\n",
      " 'Aula 8': 'https://selenium.dunossauro.live/aula_08.html',\n",
      " 'Aula 9': 'https://selenium.dunossauro.live/aula_09.html'}\n"
     ]
    }
   ],
   "source": [
    "\"\"\"\n",
    "Parte 1\n",
    "\"\"\"\n",
    "sleep(2)\n",
    "\n",
    "aulas = get_links(browser, 'aside')\n",
    "\n",
    "pprint(aulas)"
   ]
  },
  {
   "cell_type": "code",
   "execution_count": 15,
   "metadata": {},
   "outputs": [
    {
     "name": "stdout",
     "output_type": "stream",
     "text": [
      "{'Exercício 1': 'https://selenium.dunossauro.live/exercicio_01.html',\n",
      " 'Exercício 10': 'https://selenium.dunossauro.live/exercicio_010.html',\n",
      " 'Exercício 2': 'https://selenium.dunossauro.live/exercicio_02.html',\n",
      " 'Exercício 3': 'https://selenium.dunossauro.live/exercicio_03.html',\n",
      " 'Exercício 4': 'https://selenium.dunossauro.live/exercicio_04.html',\n",
      " 'Exercício 5': 'https://selenium.dunossauro.live/exercicio_05.html',\n",
      " 'Exercício 6': 'https://selenium.dunossauro.live/exercicio_06.html',\n",
      " 'Exercício 7': 'https://selenium.dunossauro.live/exercicio_07.html',\n",
      " 'Exercício 8': 'https://selenium.dunossauro.live/exercicio_08.html',\n",
      " 'Exercício 9': 'https://selenium.dunossauro.live/exercicio_09.html'}\n"
     ]
    }
   ],
   "source": [
    "\"\"\"\n",
    "Parte 2\n",
    "\"\"\"\n",
    "exercicios = get_links(browser, 'main')\n",
    "\n",
    "pprint(exercicios)\n",
    "\n",
    "browser.get(exercicios['Exercício 3'])"
   ]
  },
  {
   "cell_type": "code",
   "execution_count": null,
   "metadata": {},
   "outputs": [],
   "source": []
  }
 ],
 "metadata": {
  "kernelspec": {
   "display_name": "base",
   "language": "python",
   "name": "python3"
  },
  "language_info": {
   "codemirror_mode": {
    "name": "ipython",
    "version": 3
   },
   "file_extension": ".py",
   "mimetype": "text/x-python",
   "name": "python",
   "nbconvert_exporter": "python",
   "pygments_lexer": "ipython3",
   "version": "3.9.13"
  }
 },
 "nbformat": 4,
 "nbformat_minor": 2
}
