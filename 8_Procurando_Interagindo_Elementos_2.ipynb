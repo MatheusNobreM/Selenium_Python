{
 "cells": [
  {
   "cell_type": "code",
   "execution_count": 3,
   "metadata": {},
   "outputs": [],
   "source": [
    "from selenium.webdriver import Firefox\n",
    "from selenium import webdriver\n",
    "from selenium.webdriver.common.by import By\n",
    "from time import sleep\n",
    "from pprint import pprint"
   ]
  },
  {
   "cell_type": "code",
   "execution_count": 4,
   "metadata": {},
   "outputs": [],
   "source": [
    "browser = Firefox()\n",
    "browser.get('http://selenium.dunossauro.live/aula_05_b.html')"
   ]
  },
  {
   "cell_type": "code",
   "execution_count": 5,
   "metadata": {},
   "outputs": [
    {
     "name": "stdout",
     "output_type": "stream",
     "text": [
      "('Python', 'Criada em 1991')\n",
      "('Haskell', 'Criada em 1990')\n",
      "('Lisp', 'Criada em 1958')\n",
      "('Prolog', 'Criada em 1972')\n"
     ]
    }
   ],
   "source": [
    "topico = browser.find_element(By.CLASS_NAME, \"topico\")\n",
    "linguagens = browser.find_elements(By.CLASS_NAME, \"linguagens\")\n",
    "\n",
    "for linguagen in linguagens:\n",
    "    print(\n",
    "        (linguagen.find_element(By.TAG_NAME, \"h2\").text,\n",
    "         linguagen.find_element(By.TAG_NAME, \"p\").text)\n",
    "        )"
   ]
  },
  {
   "cell_type": "code",
   "execution_count": null,
   "metadata": {},
   "outputs": [],
   "source": [
    "browser.quit()"
   ]
  }
 ],
 "metadata": {
  "kernelspec": {
   "display_name": "base",
   "language": "python",
   "name": "python3"
  },
  "language_info": {
   "codemirror_mode": {
    "name": "ipython",
    "version": 3
   },
   "file_extension": ".py",
   "mimetype": "text/x-python",
   "name": "python",
   "nbconvert_exporter": "python",
   "pygments_lexer": "ipython3",
   "version": "3.9.13"
  }
 },
 "nbformat": 4,
 "nbformat_minor": 2
}
