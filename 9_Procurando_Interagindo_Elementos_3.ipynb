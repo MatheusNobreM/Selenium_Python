{
 "cells": [
  {
   "cell_type": "code",
   "execution_count": 1,
   "metadata": {},
   "outputs": [],
   "source": [
    "from selenium.webdriver import Firefox\n",
    "from selenium import webdriver\n",
    "from selenium.webdriver.common.by import By\n",
    "from time import sleep\n",
    "from pprint import pprint"
   ]
  },
  {
   "cell_type": "code",
   "execution_count": 8,
   "metadata": {},
   "outputs": [],
   "source": [
    "browser = Firefox()\n",
    "browser.get('http://selenium.dunossauro.live/aula_05_c.html')"
   ]
  },
  {
   "cell_type": "code",
   "execution_count": 9,
   "metadata": {},
   "outputs": [],
   "source": [
    "def melhor_filme(browser, filme, email, telefone):\n",
    "    \"\"\"Preenche o formulário do melhor filme de 2023.\"\"\"\n",
    "    browser.find_element(By.NAME, 'filme').send_keys(filme)\n",
    "    browser.find_element(By.NAME, 'email').send_keys(email)\n",
    "    browser.find_element(By.NAME, 'telefone').send_keys(telefone)\n",
    "    browser.find_element(By.NAME, 'enviar').click()\n",
    "\n",
    "\n",
    "melhor_filme(\n",
    "    browser,\n",
    "    'Parasita',\n",
    "    'mathemath@ufc.edu',\n",
    "    '(88)987654321'\n",
    ")"
   ]
  },
  {
   "cell_type": "code",
   "execution_count": 7,
   "metadata": {},
   "outputs": [],
   "source": [
    "browser.quit()"
   ]
  },
  {
   "cell_type": "code",
   "execution_count": null,
   "metadata": {},
   "outputs": [],
   "source": []
  }
 ],
 "metadata": {
  "kernelspec": {
   "display_name": "base",
   "language": "python",
   "name": "python3"
  },
  "language_info": {
   "codemirror_mode": {
    "name": "ipython",
    "version": 3
   },
   "file_extension": ".py",
   "mimetype": "text/x-python",
   "name": "python",
   "nbconvert_exporter": "python",
   "pygments_lexer": "ipython3",
   "version": "3.9.13"
  }
 },
 "nbformat": 4,
 "nbformat_minor": 2
}
